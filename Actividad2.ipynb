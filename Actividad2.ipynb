{
 "cells": [
  {
   "cell_type": "markdown",
   "metadata": {},
   "source": [
    "# Resolución de problema mediante búsqueda heurística\n",
    "# Integrantes del grupo\n",
    "\n",
    "Grupo de estudios: 12 - FUNDAE\n",
    "\n",
    "Listado de integrantes:\n",
    "- Beatriz Garcia Collado\n",
    "- Manuel Naranjo Martínez\n",
    "- Óscar Martínez Olmos\n",
    "- Pablo David Lombardo Papi\n",
    "- Santiago Félix Eslava Ros"
   ]
  },
  {
   "cell_type": "markdown",
   "metadata": {},
   "source": [
    "# Librerias\n",
    "\n",
    "Importamos todas las librerías que vamos a utilizar durante la ejecución"
   ]
  },
  {
   "cell_type": "code",
   "execution_count": 20,
   "metadata": {},
   "outputs": [],
   "source": [
    "%matplotlib inline\n",
    "import numpy as np\n",
    "import math\n",
    "import time\n",
    "import matplotlib.pyplot as plt\n",
    "from PIL import Image\n",
    "from PIL import ImageFont\n",
    "from PIL import ImageDraw        \n",
    "import cv2\n",
    "import os\n",
    "import glob"
   ]
  },
  {
   "cell_type": "markdown",
   "metadata": {},
   "source": [
    "# Análisis Inicial\n",
    "Se asume que el robot solo va a poder moverse en cruz siempre y cuando tengas espacio disponible. En caso de que esté transportando una carga tampoco podrá pasar por encima de las demás cargas. Además, en caso de necesitarlo, el robot podrá soltar una carga en cualquier sitio aunque no sea su objetivo final.\n",
    "Para la solución del ejericio, se va a representar el almacen mediante la siguiente matriz. El significado de las casillas de la matriz es el siguiente:\n",
    "<ol>\n",
    "    <li><b>R</b>: la posición del Robot\n",
    "    <li><b>#</b>: la posición de una pared\n",
    "    <li><b>M1,M2,M3</b>: la posición de las distintas cargas\n",
    "    <li><b>0</b>: espacio vacío     \n",
    "</ol>"
   ]
  },
  {
   "cell_type": "code",
   "execution_count": 39,
   "metadata": {},
   "outputs": [],
   "source": [
    "INIT_STATE = [[\"M1\", \"#\",  0 , \"M3\"],\n",
    "\t\t\t  [ 0  , \"#\",  0 ,  0  ],\n",
    "\t\t\t  [ 0  ,  0 , \"R\",  0  ],\n",
    "\t\t\t  [\"M2\",  0 ,  0 ,  0  ]]\n",
    "\n",
    "GOAL_STATE = [[ 0 , \"#\" ,  0  ,  0  ],\n",
    "\t\t\t  [ 0 , \"#\" ,  0  ,  0  ],\n",
    "\t\t\t  [ 0 ,  0  , \"R\" ,  0  ],\n",
    "\t\t\t  [ 0 , \"M3\", \"M2\", \"M1\"]]  "
   ]
  },
  {
   "cell_type": "markdown",
   "metadata": {},
   "source": [
    "## Presentacion de resultados\n",
    "\n",
    "Para representar de una manera más visual el almacén utilizaremos las siguientes funciones que traducirán la matriz a imágenes"
   ]
  },
  {
   "cell_type": "code",
   "execution_count": 22,
   "metadata": {},
   "outputs": [],
   "source": [
    "def createImg(estado, escala = 100):\n",
    "    \"\"\"\n",
    "    Crea una imagen representando el estado del almacen\n",
    "    \n",
    "    Args: \n",
    "        estado (np.array): estado actual del almacen \n",
    "        escala (int): la escala en la que se muestra la imagen\n",
    "    Return:\n",
    "        la imagen resultante\n",
    "    \"\"\"\n",
    "    filas, columnas = estado.shape\n",
    "    img = Image.new(\"RGB\",(columnas*escala + 2, filas*escala + 2),(255,255,255))\n",
    "    draw = ImageDraw.Draw(img)\n",
    "    font = ImageFont.truetype(\"arial.ttf\", int(32*escala/100))\n",
    "    for i in range(filas + 1):\n",
    "        draw.line(xy = (0, i*escala, columnas*escala, i*escala), fill = (0,0,0))\n",
    "    for i in range(columnas + 1):\n",
    "        draw.line(xy = (i*escala, 0, i*escala, filas*escala), fill = (0,0,0))\n",
    "    for (y,x), value in np.ndenumerate(estado):\n",
    "        if value != 0:\n",
    "            if str(value) == \"#\":\n",
    "                color = (0, 255, 0)\n",
    "            elif \"R\" in str(value) :\n",
    "                color = (255, 0, 0)\n",
    "            else:\n",
    "                color = (0, 0, 255)\n",
    "            draw.text((escala/2 + x*escala - int(16*escala/100),escala/2 + y*escala),value,color,font=font)\n",
    "    return img\n",
    "\n",
    "def show_images(*images):\n",
    "    \"\"\"\n",
    "    Muestra una lista dinámica de imagenes\n",
    "    \n",
    "    Args: \n",
    "        images (np.array): Las imagenes que se quieren visualizar\n",
    "    \"\"\"\n",
    "    img_list = list(images)\n",
    "    fig, axis = plt.subplots(ncols = len(img_list), figsize=(16,10), sharex=True, sharey=True)\n",
    "    for i, ax in enumerate(axis):\n",
    "        ax.imshow(images[i])\n",
    "        ax.set_xticks([])\n",
    "        ax.set_yticks([])\n",
    "        ax.set_adjustable('box')"
   ]
  },
  {
   "cell_type": "markdown",
   "metadata": {},
   "source": [
    "#### Visualizacion del estado inicial y final en imágenes"
   ]
  },
  {
   "cell_type": "code",
   "execution_count": 44,
   "metadata": {
    "scrolled": false
   },
   "outputs": [
    {
     "data": {
      "image/png": "[encoded data removed]",
      "text/plain": [
       "<Figure size 1152x720 with 2 Axes>"
      ]
     },
     "metadata": {},
     "output_type": "display_data"
    }
   ],
   "source": [
    "\n",
    "show_images(createImg(np.array(INIT_STATE, dtype=object),100), createImg(np.array(GOAL_STATE, dtype=object),100))"
   ]
  },
  {
   "cell_type": "markdown",
   "metadata": {},
   "source": [
    "# Plan de acción\n",
    "\n",
    "Para solucionar el problema utilizaremos un Agente, al que le daremos las reglas que puede seguir, el estado inicial y el estado final.\n",
    "\n",
    "El Agente realizará una **búsqueda A*** y devolverá la lista de estados que ha tenido que recorrer para conseguir llegar al resultado final. \n",
    "\n",
    "Por último, para presentar los movimientos de nuestro agente, crearemos una lista de imágenes con los estados y las transformaremos a vídeo."
   ]
  },
  {
   "cell_type": "code",
   "execution_count": 23,
   "metadata": {},
   "outputs": [],
   "source": [
    "def main(c_avance, c_carga, video_title, save_historic):\n",
    "    \"\"\"\n",
    "    Función principal para lanzar nuestra solución\n",
    "    \n",
    "    Args:\n",
    "        c_avance (int): coste de avance\n",
    "        c_carga (int): coste de carga\n",
    "        video_title (str): Título para generar el vídeo\n",
    "        save_historic (boolean): Permite guardar el historico de como se resuelve el problema\n",
    "    \"\"\"\n",
    "    agent = Agent(Rules().getRules(), INIT_STATE, GOAL_STATE)\n",
    "    result = agent.heuristicSearch(c_avance, c_carga, save_historic)    \n",
    "    images = []                   \n",
    "    while result is not None:\n",
    "        img = createImg(result.state, 100)\n",
    "        images.insert(0,img)\n",
    "        result = result.prevNode\n",
    "        \n",
    "    createVideo(video_title, images, 2)\n",
    "    createVideo(\"HeuristicSearch\", agent.imgList, 7)\n",
    "    \n",
    "    #print(\"COSTE AVANCE ->\",c_avance, \"COSTE CARGA INCORRECTA -> \" ,c_carga, \"LARGO -> \", len(path), \"Tiempo -> \", end-start)\n",
    "                  "
   ]
  },
  {
   "cell_type": "code",
   "execution_count": 24,
   "metadata": {},
   "outputs": [],
   "source": [
    "class Agent:\n",
    "    \"\"\"\n",
    "    Clase para representar a un agente (Robot)\n",
    "    que será el encargado de llevar las cargas\n",
    "    desde su posición inicial a la final\n",
    "    \n",
    "    Attributes\n",
    "    ----------\n",
    "    openDict : dic\n",
    "        Diccionario para controlar los elementos abiertos\n",
    "    closeDict : dic\n",
    "        Diccionario para controlar los elementos cerrados\n",
    "    openList : list\n",
    "        ..... Lista de elementos que se van a revisar a continuación\n",
    "    init_state : Almacen\n",
    "        Representa el estado inicial con un objeto Almacen\n",
    "    final_state : Almacen\n",
    "        Representa el estado final con un objeto Almacen\n",
    "    rules : Rule\n",
    "        Reglas de movimiento del agente\n",
    "    \n",
    "    Methods\n",
    "    -------\n",
    "    reset()\n",
    "        Resetea el estado de nuestro agente\n",
    "    calcScore()\n",
    "        Calcula el rendimiento de un estado del almacen\n",
    "    heuristicSearch()\n",
    "        Reliza la busqueda heuristica con los parametros especificados al agente\n",
    "    \"\"\"\n",
    "    def __init__(self, rules, init_state, final_state):\n",
    "        self.openDict = {}\n",
    "        self.closeDict = {}\n",
    "        self.openList = list()\n",
    "        self.closeList = list()\n",
    "        self.imgList = list()\n",
    "        self.init_state = Almacen(init_state, None)\n",
    "        self.final_state = Almacen(final_state, None)\n",
    "        self.rules = rules\n",
    "        \n",
    "    def reset(self):\n",
    "        \"\"\"\n",
    "        Resetea los argumentos del agente\n",
    "        \"\"\"\n",
    "        self.openDict = {}\n",
    "        self.closeDict =  {}\n",
    "        self.imgList.clear()\n",
    "        self.openList.clear()\n",
    "        self.closeList.clear()\n",
    "        self.openDict[self.init_state.getId()] =  1\n",
    "        self.openList.append(self.init_state);\n",
    "        \n",
    "        self.openIt = iter(self.openList)\n",
    " \n",
    "\n"
   ]
  },
  {
   "cell_type": "markdown",
   "metadata": {},
   "source": [
    "Para que el Agente pueda crear una lista de nodos con todos los estados del almacén se ha encapsulado el estado del almacén en una clase que guardara también el nodo anterior del almacén, una puntuación y un ID único creado a partir del estado."
   ]
  },
  {
   "cell_type": "code",
   "execution_count": 25,
   "metadata": {},
   "outputs": [],
   "source": [
    "class Almacen:\n",
    "    \"\"\"\n",
    "    Clase para representar a un agente (Robot)\n",
    "    que será el encargado de llevar las cargas\n",
    "    desde su posición inicial a la final\n",
    "    \n",
    "    Attributes\n",
    "    ----------\n",
    "    state : matrix\n",
    "        Una matríz que representa el estado específico de cada Almacen\n",
    "    prevNode : Almacen\n",
    "        Nodo del estado anterior  \n",
    "    score : float\n",
    "        Puntuación con la que se clasifíca el rendimiento de cada estado\n",
    "        \n",
    "    Methods\n",
    "    -------\n",
    "    getId()\n",
    "        Devuelve el Id del estado\n",
    "    \"\"\"\n",
    "    def __init__(self, state, prevNode):\n",
    "        self.state = np.array(state, dtype=object)\n",
    "        self.prevNode = prevNode\n",
    "        self.score = 0\n",
    "        \n",
    "    def getId(self):\n",
    "        \"\"\"\n",
    "        Función para obtener el Id del estado\n",
    "        \"\"\"\n",
    "        m_id = \"\"\n",
    "        for _,s in np.ndenumerate(self.state):\n",
    "            m_id += str(s)\n",
    "        return m_id\n"
   ]
  },
  {
   "cell_type": "markdown",
   "metadata": {},
   "source": [
    "Las reglas son las encargadas de crear nuevos nodos. A cada regla se le asignará una direccion y la opcion de poder soltar o no una carga. Cada regla tomará un estado, hará una copia del mismo, buscará el robot, moverá el valor de la celda en la que se encuentra el robot en la direccion que le hayamos asignado y pondrá 0 donde estaba anteriormete el robot. En caso de que le hayamos dicho a la regla que tiene que soltar la carga, en lugar de mover el valor de la celda, moverá solo la \"R\" y quitandola de la casilla en la que se encontraba. En caso de que el robot no se pueda mover en dicha direccion por haber llegado al limite del almacen, por haber chocado con una pared o por haber chocado con una carga mientras estaba moviendo otra carga, no creará un nuevo estado. "
   ]
  },
  {
   "cell_type": "code",
   "execution_count": 26,
   "metadata": {},
   "outputs": [],
   "source": [
    "class Rule():\n",
    "    \"\"\"\n",
    "    Clase encargadas de crear nuevos nodos\n",
    "    \n",
    "    Attributes\n",
    "    ----------\n",
    "    dx : int\n",
    "        Especifica cuanto se va a mover el robot en la coordenada x\n",
    "    dy : int\n",
    "        Especifica cuanto se va a mover el robot en la coordenada y\n",
    "    leaveLoad : boolean\n",
    "        Especifica si al moverse el robot va a dejar la carga en su sitio o se la va a llevar consigo\n",
    "        \n",
    "    Methods\n",
    "    ----------\n",
    "    execute()\n",
    "        Encargado de ejecutar las reglas sobre el \n",
    "        elemento 'Almacen'\n",
    "    \"\"\"\n",
    "    def __init__(self,dx,dy, leaveLoad):\n",
    "        self.dx = dx;\n",
    "        self.dy = dy;\n",
    "        self.leaveLoad = leaveLoad\n",
    "   \n",
    "               \n",
    "    def execute(self, almacen: Almacen) -> Almacen:\n",
    "        \"\"\"\n",
    "        Función encargada de ejecutar las reglas sobre el \n",
    "        elemento 'Almacen'\n",
    "        \n",
    "        Args:\n",
    "            almacen (Almacen) : El almacen sobre el que se quiere ejecutar la regla\n",
    "        \"\"\"\n",
    "        columnas = len(almacen.state[0,:])\n",
    "        filas = len(almacen.state[:,0])\n",
    "        x,y = findState(almacen.state, 'R')[0]\n",
    "        \n",
    "        if y + self.dy < 0 or y + self.dy >= columnas:\n",
    "            return None\n",
    "        \n",
    "        if x + self.dx < 0 or x + self.dx >= filas:\n",
    "            return None\n",
    "        \n",
    "        anterior = str(almacen.state[y,x])\n",
    "        nuevaPos = str(almacen.state[y + self.dy, x + self.dx])\n",
    "        \n",
    "        nuevoEstado = almacen.state.copy()\n",
    "        if nuevaPos == \"#\":\n",
    "            return None\n",
    "        if self.leaveLoad:\n",
    "            if not 'M' in anterior:\n",
    "                return None\n",
    "            else:\n",
    "                nuevoEstado[y,x] = anterior.replace('R','')  \n",
    "                anterior = 'R'\n",
    "        else:        \n",
    "            nuevoEstado[y,x] = 0         \n",
    "        if nuevaPos == '0':\n",
    "            nuevoEstado[y + self.dy, x + self.dx] = anterior\n",
    "            return Almacen(nuevoEstado, almacen)\n",
    "        \n",
    "        if \"M\" in nuevaPos:            \n",
    "            if \"M\" in anterior:\n",
    "                return None\n",
    "            nuevoEstado[y + self.dy, x + self.dx] = anterior + nuevaPos\n",
    "            return Almacen(nuevoEstado, almacen)\n",
    "        "
   ]
  },
  {
   "cell_type": "markdown",
   "metadata": {},
   "source": [
    "Se crearan 8 reglas. 4 para cada direccion ortogonal sin soltar la carga y 4 para cada direccion ortogonal soltando la carga "
   ]
  },
  {
   "cell_type": "code",
   "execution_count": 27,
   "metadata": {},
   "outputs": [],
   "source": [
    "class Rules:\n",
    "    \"\"\"\n",
    "    Factoria de reglas que el robot utilizará para moverse por el almacen. \n",
    "    \n",
    "    Methods: \n",
    "    ------\n",
    "        getRules()\n",
    "    \"\"\"\n",
    "    def __init__(self):\n",
    "        self.ruleList = list()\n",
    "        self.ruleList.append(Rule(0,-1, False))\n",
    "        self.ruleList.append(Rule(0, 1, False))\n",
    "        self.ruleList.append(Rule(-1,0, False))\n",
    "        self.ruleList.append(Rule(1, 0, False))\n",
    "        self.ruleList.append(Rule(0,-1, True))\n",
    "        self.ruleList.append(Rule(0, 1, True))\n",
    "        self.ruleList.append(Rule(-1,0, True))\n",
    "        self.ruleList.append(Rule(1, 0, True))\n",
    "        \n",
    "    def getRules(self):\n",
    "        \"\"\"\n",
    "        Funcion para obtener la lista de las reglas definidas en la clase\n",
    "        Return:\n",
    "            La lista de las reglas\n",
    "        \"\"\"\n",
    "        return self.ruleList\n",
    "        \n"
   ]
  },
  {
   "cell_type": "markdown",
   "metadata": {},
   "source": [
    "Una de las claves para conseguir una búsqueda óptima del resultado, es asignar una puntuación a cada estado, la cual represente lo cerca que está de llegar al resultado final. En este caso se ha utilizado una función heurística que conbina 4 costes diferentes:\n",
    "\n",
    "* **La distancia manhattan**: Es una función que irá incrementando de valor por cada casilla que se mueva el robot. Esto nos sirve para encontrar el camino más corto, priorizando los nodos en los que se ha movido menos el robot.\n",
    "* **La distancia hamming**: Es una funcion que va incrementando por cada carga que no esté en su sitio. Este coste sirve para priorizar los nodos que tienen cargas bien colocadas.\n",
    "* **La distancia euclidea a la carga más cercana** : Nos permite priorizar los nodos que tengan la carga más cercana.\n",
    "* **La suma de las distancias euclideas que tienen que recorrer las cargas para colocarse correctamente** : Nos permite priorizar los nodos que tengan cargas más cerca de su posición final incluso si no están totalmente bien colocadas. Este coste sirve para guiar al robot a la posición correcta de la carga.\n",
    "\n",
    "    \n",
    "Los resultados de la búsqueda cambiarán dependiendo de los pesos que asignemos a cada coste diferente. Se pasaran los pesos por parámetro, de esta manera intentaremos optimizar la función dependiendo del tipo de resultado que queramos obtener, un calculado más rápido o el más óptimo."
   ]
  },
  {
   "cell_type": "code",
   "execution_count": 28,
   "metadata": {},
   "outputs": [],
   "source": [
    "def findState(state, letra):\n",
    "    \"\"\"\n",
    "    Busca las posiciones en las que se encuentra \n",
    "    una letra dentro de la matriz del estado\n",
    "    \"\"\"\n",
    "    ret = []\n",
    "    for (y,x),s in np.ndenumerate(state):\n",
    "        if(letra in str(s)):\n",
    "            ret.append((x,y))\n",
    "    return ret \n",
    "\n",
    "class Agent(Agent):       \n",
    "    def calcScore(self, currentState, c_avance, c_carga):\n",
    "        \"\"\"\n",
    "        Función para calcular el rendimiento de cada almacen\n",
    "        \n",
    "        Args:\n",
    "            currentState (Almacen): El almacen al que se le quiere calcular el rendimiento\n",
    "            c_avance (int): El peso que se le da a la distancia manhattan\n",
    "            c_carga (int): El peso que se le da a la distancia hamming\n",
    "        \"\"\"\n",
    "        ### Funcion para asignar la puntuación al estado\n",
    "        smallestDist = None\n",
    "        #Posicion del robot\n",
    "        rx, ry = findState(currentState.state, 'R')[0]\n",
    "        #Posiciones de las cargas\n",
    "        posObjetivo = findState(self.final_state.state, 'M')\n",
    "                        \n",
    "        currentState.score = 0\n",
    "        for i in range(1, 1+len(posObjetivo)):\n",
    "            x1, y1 = findState(currentState.state, 'M'+ str(i))[0]\n",
    "            x2, y2 = findState(self.final_state.state, 'M'+ str(i))[0]    \n",
    "            # Se calcula la distancia a entre la carga y el lugar donde devería estar(4)\n",
    "            dist = math.dist([x1, y1], [x2,y2])            \n",
    "            if dist > 0: \n",
    "                # En caso de que la carga no esté en su lugar\n",
    "                # Se suma la distancia a su lugar correcto (4) y el coste de la distancia\n",
    "                # Se suma la distancia hamming por no estar en su sitio(2), cuyo valor se especifica en c_carga\n",
    "                currentState.score += dist + c_carga\n",
    "                # Se calculca la distancia a la carga más cercana (3)\n",
    "                dist = math.dist([rx, ry], [x1,y1])            \n",
    "                if smallestDist is None or smallestDist > dist:\n",
    "                    smallestDist = dist\n",
    "        # Se suma la distancia a la carga más cercana (3)\n",
    "        if smallestDist != None:\n",
    "            currentState.score += smallestDist\n",
    "        path = currentState\n",
    "        # Se suma la distancia Manhattan (1)\n",
    "        while path != None:\n",
    "            currentState.score += c_avance\n",
    "            path = path.prevNode\n",
    "            \n"
   ]
  },
  {
   "cell_type": "markdown",
   "metadata": {},
   "source": [
    "Para implementar la **búsqueda A*** se ha seguido el esquema explicado en la teoría. \n",
    "\n",
    "Se usarán dos listas, una para los nodos que ya hemos examinado y otra para los nodos que vamos a examinar(**open**, **close**). \n",
    "\n",
    "Los nodos que podemos visitar (**openList**) estarán ordenados por la puntuación que hayan obtenido mediante la función heurística. Los Ids de los nodos de ambas listas se guardarán en un diccionario para consultar más rápidamente si un nodo recien creado está en alguna de las dos listas y no volverlo a añadirlo. \n",
    "\n",
    "Para generar nuevos nodos, se usaran las reglas explicadas anteriormente. Cuando el nodo que estemos examinando coincida con el nodo objetivo se devolverá dicho nodo."
   ]
  },
  {
   "cell_type": "code",
   "execution_count": 29,
   "metadata": {},
   "outputs": [],
   "source": [
    "def Comparator(openList, nextNode):\n",
    "    \"\"\"\n",
    "    Función para buscar la posición del \n",
    "    nodo en la lista dependiendo de su puntuación\n",
    "    \"\"\"\n",
    "    nextScore = nextNode.score\n",
    "    index = 0\n",
    "    for state in openList:\n",
    "        if nextScore < state.score:\n",
    "            return index\n",
    "        index += 1\n",
    "    return index\n",
    "\n",
    "\n",
    "class Agent(Agent): \n",
    "    def heuristicSearch(self, c_avance, c_carga, save_historic = False):\n",
    "        \"\"\"\n",
    "        Reliza la busqueda heuristica con los parametros especificados al agente\n",
    "        \n",
    "        Args:\n",
    "            c_avance (int): coste que se le va a asginar en la funcion de calculo de rendimiento a la distancia manhattan\n",
    "            c_carga (int): coste que se le va a asginar en la funcion de calculo de rendimiento a la distancia hamming\n",
    "            save_historic c_carga (boolean): Sirve para guardar o no el historico de como ha realizado la busqueda\n",
    "        Return:\n",
    "            El nodo final que coincide con el estado objetivo asignado al agente\n",
    "            \n",
    "        \"\"\"\n",
    "        self.reset()\n",
    "        while any(self.openList):\n",
    "            currentNode = next(self.openIt)\n",
    "            #print(\"OPEN score -> \",currentNode.score, \"\\n\", currentNode.state)\n",
    "            if currentNode.getId() == self.final_state.getId():\n",
    "                return currentNode \n",
    "            else:\n",
    "                self.openList.remove(currentNode)\n",
    "                del self.openDict[currentNode.getId()]\n",
    "                self.closeDict[currentNode.getId()] = 1\n",
    "                self.closeList.insert(0,currentNode)\n",
    "                for rule in self.rules:\n",
    "                    nextNode = rule.execute(currentNode)\n",
    "                    if save_historic == True:\n",
    "                        self.imgList.append(drawProgress(self.openList, self.closeList, currentNode, nextNode, rule))\n",
    "                    if nextNode != None and not nextNode.getId() in self.closeDict and not nextNode.getId() in self.openDict:  \n",
    "                        self.openDict[nextNode.getId()] = 1\n",
    "                        self.calcScore(nextNode, c_avance, c_carga)\n",
    "                        index = Comparator(self.openList, nextNode)\n",
    "                        #print(\"New score -> \",nextNode.score, \" index-> \",index,\"\\n\", nextNode.state)\n",
    "                        self.openList.insert(index, nextNode)\n",
    "                        \n",
    "            self.openIt = iter(self.openList)\n",
    "        return None\n",
    "    \n"
   ]
  },
  {
   "cell_type": "markdown",
   "metadata": {},
   "source": [
    "# Visualización de las listas open y close"
   ]
  },
  {
   "cell_type": "code",
   "execution_count": 30,
   "metadata": {},
   "outputs": [],
   "source": [
    "def drawArrow(im, x, y, dx, dy, leaveLoad):\n",
    "    # Make into Numpy array so we can use OpenCV drawing functions\n",
    "    na = np.array(im)\n",
    "    if leaveLoad:\n",
    "        color = (255,0,0)\n",
    "    else:\n",
    "        color = (0,0,0)\n",
    "    # Draw arrowed line, from 10,20 to w-40,h-60 in black with thickness 8 pixels\n",
    "    na += cv2.arrowedLine(na, (x,y), (x+dx, y+dy),color, 2 )\n",
    "    # Revert back to PIL Image and save\n",
    "    return Image.fromarray(na)"
   ]
  },
  {
   "cell_type": "code",
   "execution_count": 31,
   "metadata": {},
   "outputs": [],
   "source": [
    "def drawRule(img, x,y, size, rule):\n",
    "\n",
    "    x = int(x - rule.dx * size / 2)\n",
    "    dx = rule.dx * size\n",
    "    y = int(y - rule.dy * size / 2)\n",
    "    dy = rule.dy * size\n",
    "\n",
    "    return drawArrow(img, x, y, dx, dy, rule.leaveLoad)"
   ]
  },
  {
   "cell_type": "code",
   "execution_count": 32,
   "metadata": {},
   "outputs": [],
   "source": [
    "def drawList(title, m_list, shape , escala = 30, n_elementos = 6, titleSize = 100):\n",
    "    if m_list is None: return None\n",
    "    filas, columnas = shape\n",
    "    img = Image.new(\"RGB\",(columnas*escala*n_elementos + n_elementos * escala, filas*escala + escala*2 ),(255,255,255))\n",
    "    draw = ImageDraw.Draw(img)\n",
    "    font = ImageFont.truetype(\"arial.ttf\", int(16*titleSize/100))\n",
    "    draw.text((0,0), title, (0,0,0), font=font)\n",
    "    for i, node in enumerate(m_list[:n_elementos]):\n",
    "        img.paste(createImg(node.state, escala), (i*escala*columnas + i*escala, escala))\n",
    "\n",
    "    return img"
   ]
  },
  {
   "cell_type": "code",
   "execution_count": 33,
   "metadata": {},
   "outputs": [],
   "source": [
    "def drawProgress(openList,closeList, current, newNode, rule):\n",
    "    escala_grande = 100\n",
    "    escala_pequena = 30\n",
    "    n_elementos = 10\n",
    "    stateSize = (current.state.shape[0]*escala_grande, current.state.shape[1]*escala_grande) \n",
    "    listStateSize = (current.state.shape[0]*escala_pequena, current.state.shape[1]*escala_pequena)  \n",
    "    img = Image.new(\"RGB\",(stateSize[0] * 2 + escala_grande*4 + escala_pequena,\n",
    "                           stateSize[1] + listStateSize[1] * 2 + escala_grande*3),(255,255,255))\n",
    "    img = drawRule(img, escala_grande*2 + stateSize[0], escala_grande + stateSize[1]/2 , escala_grande, rule)\n",
    "\n",
    "    img.paste(createImg(current.state, escala_grande), (escala_grande , escala_grande))\n",
    "    if not newNode is None:\n",
    "        img.paste(createImg(newNode.state, escala_grande), (escala_grande*3 + stateSize[0], escala_grande))\n",
    "    img.paste(drawList(\"Open List\", openList, current.state.shape, escala_pequena, n_elementos, escala_grande),\n",
    "             (escala_pequena, escala_grande + stateSize[1] + escala_pequena))\n",
    "    img.paste(drawList(\"Close List\", closeList,  current.state.shape,  escala_pequena, n_elementos, escala_grande),\n",
    "             (escala_pequena, escala_grande + stateSize[1] +listStateSize[1]+ escala_pequena+ escala_grande))\n",
    "    \n",
    "    return img"
   ]
  },
  {
   "cell_type": "code",
   "execution_count": 34,
   "metadata": {},
   "outputs": [],
   "source": [
    "def createVideo(title, images, fps):\n",
    "    \"\"\"\n",
    "    Función para crear el vídeo\n",
    "    \"\"\"\n",
    "    directory = \"./VideoImages/\"+title+\"/\"\n",
    "    if not os.path.isdir(directory):\n",
    "        os.makedirs(directory)\n",
    "    for i, img in enumerate(images):\n",
    "        img.save(directory + title + \"_\" + str(i).zfill(4) + \".png\")\n",
    "        \n",
    " \n",
    "    img_array = []\n",
    "    for filename in glob.glob(directory + '/*.png'):\n",
    "        img = cv2.imread(filename)\n",
    "        height, width, layers = img.shape\n",
    "        size = (width,height)\n",
    "        img_array.append(img)\n",
    "     \n",
    "     \n",
    "    out = cv2.VideoWriter(title + '.avi',cv2.VideoWriter_fourcc(*'DIVX'), fps, size)\n",
    "     \n",
    "    for i in range(len(img_array)):\n",
    "        out.write(img_array[i])\n",
    "    out.release()"
   ]
  },
  {
   "cell_type": "markdown",
   "metadata": {},
   "source": [
    "# Pruebas realizadas\n",
    "\n",
    "Se cambiarán los valores de entrada de la función de eurística del 0 al 5 y se almacenarán en una matríz, con cada variable como eje, el tiempo que tarda en ejecutar el algoritmo y la longitud recorrida por el robot en el resultado final. De esta manera podemos observar como cuando aumentamos el coste de movimiento, aumenta el tiempo que tarda en calcular el camino correcto pero optimiza el camino recorrido. Por otro lado, vemos que cuanto más peso le demos a las cargas mal colocadas, disminuye el tiempo de búsqueda pero la londgitud del camino recorrido aumenta."
   ]
  },
  {
   "cell_type": "code",
   "execution_count": 40,
   "metadata": {},
   "outputs": [
    {
     "name": "stdout",
     "output_type": "stream",
     "text": [
      "COSTE AVANCE -> 0 COSTE CARGA INCORRECTA ->  0 LARGO ->  31.0 Tiempo ->  0.04786992073059082\n",
      "COSTE AVANCE -> 0 COSTE CARGA INCORRECTA ->  1 LARGO ->  29.0 Tiempo ->  0.028929710388183594\n",
      "COSTE AVANCE -> 0 COSTE CARGA INCORRECTA ->  2 LARGO ->  27.0 Tiempo ->  0.020937681198120117\n",
      "COSTE AVANCE -> 0 COSTE CARGA INCORRECTA ->  3 LARGO ->  27.0 Tiempo ->  0.020943641662597656\n",
      "COSTE AVANCE -> 0 COSTE CARGA INCORRECTA ->  4 LARGO ->  27.0 Tiempo ->  0.018958330154418945\n",
      "COSTE AVANCE -> 0 COSTE CARGA INCORRECTA ->  5 LARGO ->  27.0 Tiempo ->  0.018950939178466797\n",
      "COSTE AVANCE -> 1 COSTE CARGA INCORRECTA ->  0 LARGO ->  25.0 Tiempo ->  3.5535049438476562\n",
      "COSTE AVANCE -> 1 COSTE CARGA INCORRECTA ->  1 LARGO ->  25.0 Tiempo ->  0.8915228843688965\n",
      "COSTE AVANCE -> 1 COSTE CARGA INCORRECTA ->  2 LARGO ->  25.0 Tiempo ->  0.3236877918243408\n",
      "COSTE AVANCE -> 1 COSTE CARGA INCORRECTA ->  3 LARGO ->  25.0 Tiempo ->  0.15930819511413574\n",
      "COSTE AVANCE -> 1 COSTE CARGA INCORRECTA ->  4 LARGO ->  27.0 Tiempo ->  0.10870933532714844\n",
      "COSTE AVANCE -> 1 COSTE CARGA INCORRECTA ->  5 LARGO ->  27.0 Tiempo ->  0.03490757942199707\n",
      "COSTE AVANCE -> 2 COSTE CARGA INCORRECTA ->  0 LARGO ->  25.0 Tiempo ->  9.721974849700928\n",
      "COSTE AVANCE -> 2 COSTE CARGA INCORRECTA ->  1 LARGO ->  25.0 Tiempo ->  6.453196287155151\n",
      "COSTE AVANCE -> 2 COSTE CARGA INCORRECTA ->  2 LARGO ->  25.0 Tiempo ->  3.9109747409820557\n",
      "COSTE AVANCE -> 2 COSTE CARGA INCORRECTA ->  3 LARGO ->  25.0 Tiempo ->  2.105847120285034\n",
      "COSTE AVANCE -> 2 COSTE CARGA INCORRECTA ->  4 LARGO ->  25.0 Tiempo ->  1.4992618560791016\n",
      "COSTE AVANCE -> 2 COSTE CARGA INCORRECTA ->  5 LARGO ->  25.0 Tiempo ->  1.0409951210021973\n",
      "COSTE AVANCE -> 3 COSTE CARGA INCORRECTA ->  0 LARGO ->  25.0 Tiempo ->  10.362278461456299\n",
      "COSTE AVANCE -> 3 COSTE CARGA INCORRECTA ->  1 LARGO ->  25.0 Tiempo ->  9.04605507850647\n",
      "COSTE AVANCE -> 3 COSTE CARGA INCORRECTA ->  2 LARGO ->  25.0 Tiempo ->  7.356765508651733\n",
      "COSTE AVANCE -> 3 COSTE CARGA INCORRECTA ->  3 LARGO ->  25.0 Tiempo ->  5.655218839645386\n",
      "COSTE AVANCE -> 3 COSTE CARGA INCORRECTA ->  4 LARGO ->  25.0 Tiempo ->  4.123887300491333\n",
      "COSTE AVANCE -> 3 COSTE CARGA INCORRECTA ->  5 LARGO ->  25.0 Tiempo ->  2.779921770095825\n",
      "COSTE AVANCE -> 4 COSTE CARGA INCORRECTA ->  0 LARGO ->  25.0 Tiempo ->  9.51212763786316\n",
      "COSTE AVANCE -> 4 COSTE CARGA INCORRECTA ->  1 LARGO ->  25.0 Tiempo ->  8.280232667922974\n",
      "COSTE AVANCE -> 4 COSTE CARGA INCORRECTA ->  2 LARGO ->  25.0 Tiempo ->  7.295511484146118\n",
      "COSTE AVANCE -> 4 COSTE CARGA INCORRECTA ->  3 LARGO ->  25.0 Tiempo ->  6.164063215255737\n",
      "COSTE AVANCE -> 4 COSTE CARGA INCORRECTA ->  4 LARGO ->  25.0 Tiempo ->  5.132091999053955\n",
      "COSTE AVANCE -> 4 COSTE CARGA INCORRECTA ->  5 LARGO ->  25.0 Tiempo ->  4.180229663848877\n",
      "COSTE AVANCE -> 5 COSTE CARGA INCORRECTA ->  0 LARGO ->  25.0 Tiempo ->  9.921779870986938\n",
      "COSTE AVANCE -> 5 COSTE CARGA INCORRECTA ->  1 LARGO ->  25.0 Tiempo ->  8.988928079605103\n",
      "COSTE AVANCE -> 5 COSTE CARGA INCORRECTA ->  2 LARGO ->  25.0 Tiempo ->  8.170056819915771\n",
      "COSTE AVANCE -> 5 COSTE CARGA INCORRECTA ->  3 LARGO ->  25.0 Tiempo ->  7.102343559265137\n",
      "COSTE AVANCE -> 5 COSTE CARGA INCORRECTA ->  4 LARGO ->  25.0 Tiempo ->  6.328572988510132\n",
      "COSTE AVANCE -> 5 COSTE CARGA INCORRECTA ->  5 LARGO ->  25.0 Tiempo ->  5.535684108734131\n"
     ]
    },
    {
     "data": {
      "image/png": "[encoded data removed]",
      "text/plain": [
       "<Figure size 1152x720 with 2 Axes>"
      ]
     },
     "metadata": {
      "needs_background": "light"
     },
     "output_type": "display_data"
    }
   ],
   "source": [
    "def evaluar():\n",
    "    \"\"\"\n",
    "    Funcion para realizar la evaluación de los pesos para el calculo de rendimiento\n",
    "    \"\"\"\n",
    "    agent = Agent(Rules().getRules(), INIT_STATE, GOAL_STATE)\n",
    "    \n",
    "    tiempos = np.zeros((6,6))\n",
    "    largos = np.zeros((6,6))\n",
    "    for (c_avance, c_carga),_ in np.ndenumerate(tiempos):\n",
    "        start = time.time()\n",
    "        result = agent.heuristicSearch(c_avance, c_carga)\n",
    "        end = time.time()\n",
    "        path = [] \n",
    "        while result is not None:\n",
    "            path.insert(0,result.state)\n",
    "            result = result.prevNode\n",
    "            \n",
    "        #for p in path: print(p)\n",
    "        \n",
    "        tiempos[c_avance, c_carga] = end - start\n",
    "        largos[c_avance, c_carga] = len(path)\n",
    "        print(\"COSTE AVANCE ->\",c_avance, \"COSTE CARGA INCORRECTA -> \" ,c_carga, \"LARGO -> \", largos[c_avance, c_carga], \"Tiempo -> \", tiempos[c_avance, c_carga])\n",
    "    \n",
    "    f, axis = plt.subplots(1, 2, sharey=True, figsize=(16,10), sharex = True)\n",
    "    axis[0].set_title(\"Tiempo\")\n",
    "    axis[0].set_ylabel('Coste Avance')\n",
    "    axis[0].set_xlabel('Coste Carga')\n",
    "    axis[1].set_title(\"Largo\")\n",
    "    axis[1].set_xlabel('Coste Carga')\n",
    "    axis[0].imshow(tiempos,cmap=plt.cm.Spectral_r)\n",
    "    axis[1].imshow(largos,cmap=plt.cm.Spectral_r)\n",
    "    \n",
    "    plt.show()\n",
    "                    \n",
    "evaluar()  "
   ]
  },
  {
   "cell_type": "markdown",
   "metadata": {},
   "source": [
    "Vemos como el resultado más rápido que da el camino más corto lo obtenemos con el coste de movimiento = 1 y con el coste de carga mal colocada = 3. El resultado se genera en vídeo además de en las imagenes"
   ]
  },
  {
   "cell_type": "code",
   "execution_count": 20,
   "metadata": {},
   "outputs": [],
   "source": [
    "main(c_avance = 1, c_carga = 3, video_title=\"PathFinder\", True)"
   ]
  },
  {
   "cell_type": "code",
   "execution_count": 39,
   "metadata": {},
   "outputs": [
    {
     "data": {
      "image/png": "[encoded data removed]",
      "text/plain": [
       "<Figure size 2304x2304 with 30 Axes>"
      ]
     },
     "metadata": {},
     "output_type": "display_data"
    }
   ],
   "source": [
    "def MostrarResultado(images):\n",
    "    \"\"\"\n",
    "    Muestra el resultado de la busqueda\n",
    "    \"\"\"\n",
    "    img_list = list(images)\n",
    "    fig, axis = plt.subplots(ncols = 6, nrows = 5, figsize=(32,32), sharex=False, sharey=False)\n",
    "    imgIndex = 0\n",
    "    imgLen = len(images)\n",
    "    for rows in axis:\n",
    "        for ax in rows:\n",
    "            ax.set_xticks([])\n",
    "            ax.set_yticks([])\n",
    "            ax.margins(1,1)\n",
    "            if imgLen > imgIndex:  \n",
    "                ax.imshow(images[imgIndex])   \n",
    "                imgIndex+=1\n",
    "            else:\n",
    "                ax.imshow(np.zeros((1,1)))\n",
    "\n",
    "img_array = []\n",
    "for filename in glob.glob(\"./VideoImages/PathFinder/*.png\"):\n",
    "    img = cv2.imread(filename)\n",
    "    img_array.append(img)\n",
    "MostrarResultado(img_array)"
   ]
  },
  {
   "cell_type": "markdown",
   "metadata": {},
   "source": [
    "Otra de las pruebas que se ha realizado ha sido complicando el almacen añadiendo más cargas y paredes, vemos como lo soluciona también correctamente.\n",
    "Como resultado generará un video con la resulución del problema"
   ]
  },
  {
   "cell_type": "code",
   "execution_count": 36,
   "metadata": {},
   "outputs": [],
   "source": [
    "INIT_STATE = [[\"M1\", \"#\",  \"M4\" , \"M3\"],\n",
    "\t\t\t  [ 0  , \"#\",  0 ,  0  ],\n",
    "\t\t\t  [ 0  , \"#\" , \"R\",  0  ],\n",
    "\t\t\t  [\"M2\",  0 ,  0 ,  0  ]]\n",
    "\n",
    "GOAL_STATE = [[ 0 , \"#\" ,  0  ,  0  ],\n",
    "\t\t\t  [ 0 , \"#\" ,  0  ,  0  ],\n",
    "\t\t\t  [ 0 , \"#\" , \"R\" ,  0  ],\n",
    "\t\t\t  [ \"M4\", \"M3\", \"M2\", \"M1\"]]  \n",
    "\n",
    "main(c_avance = 1, c_carga = 2, video_title=\"PathFinder2\",save_historic= False)"
   ]
  },
  {
   "cell_type": "code",
   "execution_count": null,
   "metadata": {},
   "outputs": [],
   "source": []
  }
 ],
 "metadata": {
  "kernelspec": {
   "display_name": "Python 3",
   "language": "python",
   "name": "python3"
  },
  "language_info": {
   "codemirror_mode": {
    "name": "ipython",
    "version": 3
   },
   "file_extension": ".py",
   "mimetype": "text/x-python",
   "name": "python",
   "nbconvert_exporter": "python",
   "pygments_lexer": "ipython3",
   "version": "3.8.3"
  }
 },
 "nbformat": 4,
 "nbformat_minor": 4
}
